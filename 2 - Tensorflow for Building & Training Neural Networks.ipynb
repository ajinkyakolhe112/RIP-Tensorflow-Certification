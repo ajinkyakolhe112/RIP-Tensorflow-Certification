{
  "cells": [
    {
      "cell_type": "markdown",
      "metadata": {},
      "source": [
        "## Links\n",
        "- [List of resources in the lecture](https://www.one-tab.com/page/gz4wFc8yTDSJ9VSLgNbxXA)\n"
      ]
    },
    {
      "cell_type": "code",
      "execution_count": 2,
      "metadata": {
        "id": "Bdy9kF96YhXd"
      },
      "outputs": [
        {
          "name": "stderr",
          "output_type": "stream",
          "text": [
            "2024-04-25 06:49:19.603156: I external/local_tsl/tsl/cuda/cudart_stub.cc:32] Could not find cuda drivers on your machine, GPU will not be used.\n",
            "2024-04-25 06:49:19.606281: I external/local_tsl/tsl/cuda/cudart_stub.cc:32] Could not find cuda drivers on your machine, GPU will not be used.\n",
            "2024-04-25 06:49:19.646169: I tensorflow/core/platform/cpu_feature_guard.cc:210] This TensorFlow binary is optimized to use available CPU instructions in performance-critical operations.\n",
            "To enable the following instructions: AVX2 FMA, in other operations, rebuild TensorFlow with the appropriate compiler flags.\n",
            "2024-04-25 06:49:20.771333: W tensorflow/compiler/tf2tensorrt/utils/py_utils.cc:38] TF-TRT Warning: Could not find TensorRT\n"
          ]
        },
        {
          "name": "stdout",
          "output_type": "stream",
          "text": [
            "TensorFlow version: 2.16.1\n"
          ]
        }
      ],
      "source": [
        "import tensorflow as tf\n",
        "import pandas     as pd\n",
        "import matplotlib.pyplot as plt\n",
        "\n",
        "print(\"TensorFlow version:\", tf.__version__)"
      ]
    },
    {
      "cell_type": "markdown",
      "metadata": {
        "id": "dlA0JPuo1jt0"
      },
      "source": [
        "## Data to learn patterns from\n",
        "- Neural Networks are \"General Purpose pattern extracting machines from Data\"\n",
        "- In other words - They can extract patterns from Data of any kind\n",
        "- In other words - They can extract patterns even if that pattern is not there\n",
        "- In other words - They can extract a deeper pattern we can't even know"
      ]
    },
    {
      "cell_type": "code",
      "execution_count": null,
      "metadata": {
        "id": "MP7N27A6Y0D8"
      },
      "outputs": [],
      "source": [
        "mnist = tf.keras.datasets.mnist\n",
        "\n",
        "(x_train, y_train), (x_test, y_test) = mnist.load_data()\n",
        "x_train, x_test = x_train / 255.0, x_test / 255.0"
      ]
    },
    {
      "cell_type": "markdown",
      "metadata": {
        "id": "QJ6IZn6i1_aB"
      },
      "source": [
        "## Model\n",
        "- Each layer is a **weights vector** and a **bias value**\n",
        "- Each connection has a weight assosiated with it\n",
        "- Dot Product = Weighted Sum of values. Each value taken according to it's appropriate **weight**\n",
        "- Weight is a parameter\n",
        "- Model as stacks of layer"
      ]
    },
    {
      "cell_type": "code",
      "execution_count": null,
      "metadata": {
        "id": "MbI_qUTjY2Ro"
      },
      "outputs": [],
      "source": [
        "model = tf.keras.models.Sequential([\n",
        "  tf.keras.layers.Flatten(input_shape=(28, 28)),\n",
        "  tf.keras.layers.Dense(128, activation='relu'),\n",
        "  tf.keras.layers.Dropout(0.2),\n",
        "  tf.keras.layers.Dense(10)\n",
        "])\n",
        "\n",
        "model.summary()"
      ]
    },
    {
      "cell_type": "code",
      "execution_count": 6,
      "metadata": {},
      "outputs": [
        {
          "name": "stderr",
          "output_type": "stream",
          "text": [
            "/home/codespace/.python/current/lib/python3.10/site-packages/keras/src/layers/core/dense.py:87: UserWarning: Do not pass an `input_shape`/`input_dim` argument to a layer. When using Sequential models, prefer using an `Input(shape)` object as the first layer in the model instead.\n",
            "  super().__init__(activity_regularizer=activity_regularizer, **kwargs)\n"
          ]
        },
        {
          "data": {
            "text/plain": [
              "{'_tracker': <keras.src.utils.tracking.Tracker at 0x7ff0deddca00>,\n",
              " '_self_setattr_tracking': True,\n",
              " '_trainable_variables': [],\n",
              " '_non_trainable_variables': [],\n",
              " '_layers': [],\n",
              " '_metrics': [],\n",
              " '_seed_generators': [],\n",
              " '_lock': False,\n",
              " '_auto_config': <keras.src.saving.serialization_lib.SerializableDict at 0x7ff0deddd1b0>,\n",
              " 'build': <function keras.src.layers.core.dense.Dense.build(input_shape)>,\n",
              " '_saved_model_inputs_spec': None,\n",
              " '_saved_model_arg_spec': None,\n",
              " '_tracked': ['_inbound_nodes',\n",
              "  '_outbound_nodes',\n",
              "  '_losses',\n",
              "  '_loss_ids',\n",
              "  '_losses_override'],\n",
              " '_dtype_policy': <FloatDTypePolicy \"float32\">,\n",
              " 'name': 'dense_3',\n",
              " '_inbound_nodes': [],\n",
              " '_outbound_nodes': [],\n",
              " 'activity_regularizer': None,\n",
              " '_input_shape_arg': 2,\n",
              " 'built': False,\n",
              " 'autocast': True,\n",
              " '_input_spec': InputSpec(min_ndim=2),\n",
              " '_called': False,\n",
              " 'supports_jit': True,\n",
              " '_trainable': True,\n",
              " '_losses': [],\n",
              " '_loss_ids': TrackedSet(),\n",
              " '_losses_override': [],\n",
              " '_call_signature': <Signature (inputs)>,\n",
              " '_call_has_training_arg': False,\n",
              " '_call_has_mask_arg': False,\n",
              " '_supports_masking': True,\n",
              " '_convert_input_args': True,\n",
              " '_allow_non_tensor_positional_args': False,\n",
              " '_build_shapes_dict': None,\n",
              " '_parent_path': None,\n",
              " 'units': 8,\n",
              " 'activation': <function keras.src.activations.activations.relu(x, negative_slope=0.0, max_value=None, threshold=0.0)>,\n",
              " 'use_bias': True,\n",
              " 'kernel_initializer': <keras.src.initializers.random_initializers.GlorotUniform at 0x7ff13aed3d00>,\n",
              " 'bias_initializer': <keras.src.initializers.constant_initializers.Zeros at 0x7ff13aed0ee0>,\n",
              " 'kernel_regularizer': None,\n",
              " 'bias_regularizer': None,\n",
              " 'kernel_constraint': None,\n",
              " 'bias_constraint': None,\n",
              " 'lora_rank': None,\n",
              " 'lora_enabled': False}"
            ]
          },
          "execution_count": 6,
          "metadata": {},
          "output_type": "execute_result"
        }
      ],
      "source": [
        "layer = tf.keras.layers.Dense(8, activation='relu', input_shape = (2))\n",
        "dir(layer)   # List of functions which can be called on layer\n",
        "vars(layer)  # List of variables part of layer"
      ]
    },
    {
      "cell_type": "code",
      "execution_count": null,
      "metadata": {
        "id": "uifNY555Y4hc"
      },
      "outputs": [],
      "source": [
        "predictions = model(x_train[0])\n",
        "predictions"
      ]
    },
    {
      "cell_type": "code",
      "execution_count": null,
      "metadata": {
        "id": "GyJJd7aPY_EY"
      },
      "outputs": [],
      "source": [
        "logits = model(x_train[0])\n",
        "logits"
      ]
    },
    {
      "cell_type": "code",
      "execution_count": null,
      "metadata": {
        "id": "G9rJo2MhZCZC"
      },
      "outputs": [],
      "source": [
        "tf.nn.softmax(logits)"
      ]
    },
    {
      "cell_type": "markdown",
      "metadata": {
        "id": "Of2g49144mvg"
      },
      "source": [
        "## Error Value"
      ]
    },
    {
      "cell_type": "code",
      "execution_count": null,
      "metadata": {
        "id": "RTIP7Md2ZGIE"
      },
      "outputs": [],
      "source": [
        "loss_fn = tf.keras.losses.SparseCategoricalCrossentropy(from_logits=True)\n",
        "\n",
        "loss_fn(y_train[:1], predictions)"
      ]
    },
    {
      "cell_type": "code",
      "execution_count": null,
      "metadata": {
        "id": "3Yj-yr6sZJ28"
      },
      "outputs": [],
      "source": [
        "model.compile(optimizer='adam',\n",
        "              loss=loss_fn,\n",
        "              metrics=['accuracy'])"
      ]
    },
    {
      "cell_type": "markdown",
      "metadata": {
        "id": "a2gQnhrT4qTy"
      },
      "source": [
        "## Error Minimization or Accuracy Maximization\n",
        "- For 1 task, we could have infinite number of different neural networks\n",
        "- No two people's brain is connected the same way , even if they know the same things\n",
        "\n",
        "- Whatever the network, by using Brute force, we can find **parameters** for which error value is minimum\n",
        "- Parameter weight could be positive & high value\n",
        "- Parameter weight could be positive & very low value\n",
        "- Parameter weight could be negative & high value\n",
        "- Parameter weight could be negative & low value"
      ]
    },
    {
      "cell_type": "code",
      "execution_count": null,
      "metadata": {
        "id": "Vl6TLqAbZK3K"
      },
      "outputs": [],
      "source": [
        "history = model.fit(x_train, y_train, epochs=5)\n",
        "\n",
        "\n",
        "pd.DataFrame(history.history).plot()\n",
        "plt.title(\"training curves\")"
      ]
    },
    {
      "cell_type": "markdown",
      "metadata": {},
      "source": [
        "### Training is most time consuming - where we need GPU\n",
        "- Learned parameters are what are valuable. They are what we learn at end of training with high accuracy and low error value\n",
        "- Once a parameter is learned, we can reuse it, hence importance of Transfer learning. We don't train model everytime from scratch. \n",
        "- We have a standard neural network architecture & it's trained weights available\n",
        "\n",
        "#### Standard Model Architectures (Most people get demotivated here)\n",
        "- Alexnet, Resnet , Squeezenet\n",
        "- Transformers, BERT, GPT\n",
        "- DDPM"
      ]
    },
    {
      "cell_type": "code",
      "execution_count": null,
      "metadata": {
        "id": "os6yKCn-ZMCQ"
      },
      "outputs": [],
      "source": [
        "model.evaluate(x_test,  y_test, verbose=2)"
      ]
    },
    {
      "cell_type": "markdown",
      "metadata": {
        "id": "Dpmenfef5Axo"
      },
      "source": [
        "### Saving model"
      ]
    },
    {
      "cell_type": "code",
      "execution_count": null,
      "metadata": {
        "id": "OF2uqGz2bZh3"
      },
      "outputs": [],
      "source": [
        "# Save a model\n",
        "model.save(\"saved_trained_model\")\n",
        "# Load in a model and evaluate it\n",
        "loaded_model = tf.keras.models.load_model(\"saved_trained_model\")\n",
        "loaded_model.evaluate(test_data)"
      ]
    },
    {
      "cell_type": "markdown",
      "metadata": {
        "id": "_AAZruFD5Cc8"
      },
      "source": [
        "### Callbacks"
      ]
    },
    {
      "cell_type": "code",
      "execution_count": null,
      "metadata": {
        "id": "nqTuot8ocXMj"
      },
      "outputs": [],
      "source": [
        "# Setup checkpoint path\n",
        "checkpoint_path     = \"model_saving_path\"\n",
        "checkpoint_callback = tf.keras.callbacks.ModelCheckpoint(filepath= checkpoint_path)\n",
        "\n",
        "history = model.fit(x_train, y_train, epochs=5, callbacks = [checkpoint_callback] )"
      ]
    },
    {
      "cell_type": "markdown",
      "metadata": {
        "id": "kJRyjNIRwQz_"
      },
      "source": [
        "## Overfitting & Underfitting\n",
        "- Overfitting  = Chatur or Rote Memorization Topper , but no understanding\n",
        "- Underfitting = Not studied at all, could have easily studied a bit more. 5 pointer\n",
        "\n",
        "### Model Complexity & Task Complexity\n",
        "\n",
        "- Underfitting = Model much simpler than task complexity  \n",
        "- Correctly fitting = Model complexity and task complexity are similar  \n",
        "- Overfitting = Model is more complex than task, so focus is on remembering instead of learning generalization  \n",
        "\n"
      ]
    }
  ],
  "metadata": {
    "colab": {
      "provenance": []
    },
    "kernelspec": {
      "display_name": "Python 3",
      "name": "python3"
    },
    "language_info": {
      "codemirror_mode": {
        "name": "ipython",
        "version": 3
      },
      "file_extension": ".py",
      "mimetype": "text/x-python",
      "name": "python",
      "nbconvert_exporter": "python",
      "pygments_lexer": "ipython3",
      "version": "3.10.13"
    }
  },
  "nbformat": 4,
  "nbformat_minor": 0
}
